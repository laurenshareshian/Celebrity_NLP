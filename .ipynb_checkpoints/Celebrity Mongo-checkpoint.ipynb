{
 "cells": [
  {
   "cell_type": "code",
   "execution_count": 15,
   "metadata": {
    "collapsed": true
   },
   "outputs": [],
   "source": [
    "import pandas as pd\n",
    "from pymongo import MongoClient"
   ]
  },
  {
   "cell_type": "code",
   "execution_count": null,
   "metadata": {
    "collapsed": true
   },
   "outputs": [],
   "source": [
    "### TO PUT TMZ ARTICLE DATA INTO MONGO"
   ]
  },
  {
   "cell_type": "code",
   "execution_count": null,
   "metadata": {
    "collapsed": true
   },
   "outputs": [],
   "source": [
    "client = MongoClient(port=12345)"
   ]
  },
  {
   "cell_type": "code",
   "execution_count": 1,
   "metadata": {},
   "outputs": [
    {
     "name": "stdout",
     "output_type": "stream",
     "text": [
      "DMX went to visit his family ... and he could go to jail as a result.The rapper is out on bail in his tax evasion case, and one of the conditions was that he must give the judge a heads-up if he blows out of town. He left New York to see family in St. Louis, without telling hizzoner ... and that could be a deal breaker.DMX's attorney, Murray Richman, tells TMZ ... it seems like X just forgot, because he was preoccupied with the trip.Richman says X usually notifies his probation officer if he's leaving New York to perform, so this is unlike him. He's guessing the judge will show a little mercy and just up the restrictions -- like requiring an ankle bracelet -- but Richman vows to fight it.Nicholas Biase, a spokesman for the  US attorney for the southern district of NY, tells us X is set to appear in court later this week.\n",
      "Bill Cosby brought MORE celeb pals to court for day 4 of his sexual assault trial.Cosby walked in with comedian Joe Torry and actor Lewis Dix Jr. Thursday, and the pals seemed very relaxed, even jovial -- despite serious allegations against Cosby.Earlier this week, Cosby arrived at court locked arm-in-arm with Keshia Knight Pulliam ... and on Wednesday with another former co-star, Sheila Frazier.\n",
      "1507\n"
     ]
    }
   ],
   "source": [
    "article_list = []\n",
    "with open('all_celeb_gossip.txt', 'r') as infile:\n",
    "    for article in infile:\n",
    "        article_list.append(article.strip())\n",
    "print(article_list[0])\n",
    "print(article_list[-1])\n",
    "print(len(article_list))"
   ]
  },
  {
   "cell_type": "code",
   "execution_count": 2,
   "metadata": {
    "collapsed": true
   },
   "outputs": [],
   "source": [
    "links = []\n",
    "with open('combined_links.txt') as infile:\n",
    "    for line in infile:\n",
    "        links.append(line.strip())"
   ]
  },
  {
   "cell_type": "code",
   "execution_count": 35,
   "metadata": {},
   "outputs": [],
   "source": [
    "tmz = []\n",
    "for i in range(len(links)):\n",
    "    tmz.append({'link':links[i], 'article':article_list[i]})"
   ]
  },
  {
   "cell_type": "code",
   "execution_count": 36,
   "metadata": {},
   "outputs": [
    {
     "data": {
      "text/plain": [
       "{'article': \"DMX\\xa0went to visit his family ... and he could go to jail as a result.The rapper is out on bail in his tax evasion case, and one of the conditions was that he must give the judge a heads-up if he blows out of town. He left New York to see family in St. Louis, without telling hizzoner ... and that could be a deal breaker.DMX's attorney, Murray Richman, tells TMZ ... it seems like X just forgot, because he was preoccupied with the trip.Richman says X usually notifies his probation officer if he's leaving New York to perform, so this is unlike him. He's guessing the judge will show a little mercy and just up the restrictions -- like requiring an ankle bracelet -- but Richman vows to fight it.Nicholas Biase, a spokesman for the\\xa0\\xa0US attorney for the southern district of NY, tells us X is set to appear in court later this week.\",\n",
       " 'link': 'http://www.tmz.com/2017/08/09/dmx-violated-bail-tax-evasion-travel-out-of-state/'}"
      ]
     },
     "execution_count": 36,
     "metadata": {},
     "output_type": "execute_result"
    }
   ],
   "source": [
    "tmz[0]"
   ]
  },
  {
   "cell_type": "code",
   "execution_count": 5,
   "metadata": {},
   "outputs": [
    {
     "data": {
      "text/plain": [
       "['admin', 'celebrity', 'dog', 'local', 'new_cool_db']"
      ]
     },
     "execution_count": 5,
     "metadata": {},
     "output_type": "execute_result"
    }
   ],
   "source": [
    "client.database_names()\n",
    "#gossip = db.create_collection('gossip')"
   ]
  },
  {
   "cell_type": "code",
   "execution_count": 6,
   "metadata": {
    "collapsed": true
   },
   "outputs": [],
   "source": [
    "db = client.celebrity"
   ]
  },
  {
   "cell_type": "code",
   "execution_count": 15,
   "metadata": {},
   "outputs": [
    {
     "data": {
      "text/plain": [
       "Collection(Database(MongoClient(host=['localhost:12345'], document_class=dict, tz_aware=False, connect=True), 'celebrity'), 'gossip')"
      ]
     },
     "execution_count": 15,
     "metadata": {},
     "output_type": "execute_result"
    }
   ],
   "source": [
    "db.create_collection(\"gossip\")"
   ]
  },
  {
   "cell_type": "code",
   "execution_count": 7,
   "metadata": {},
   "outputs": [
    {
     "name": "stdout",
     "output_type": "stream",
     "text": [
      "['gossip']\n"
     ]
    }
   ],
   "source": [
    "print(db.collection_names())"
   ]
  },
  {
   "cell_type": "code",
   "execution_count": 45,
   "metadata": {
    "collapsed": true
   },
   "outputs": [],
   "source": [
    "gossip = client.celebrity.gossip"
   ]
  },
  {
   "cell_type": "code",
   "execution_count": 46,
   "metadata": {},
   "outputs": [],
   "source": [
    "for article in tmz:\n",
    "    gossip.insert_one(article)"
   ]
  },
  {
   "cell_type": "code",
   "execution_count": 49,
   "metadata": {},
   "outputs": [
    {
     "data": {
      "text/plain": [
       "{'_id': ObjectId('598df6dd2056780489cd43f6'),\n",
       " 'article': \"DMX\\xa0went to visit his family ... and he could go to jail as a result.The rapper is out on bail in his tax evasion case, and one of the conditions was that he must give the judge a heads-up if he blows out of town. He left New York to see family in St. Louis, without telling hizzoner ... and that could be a deal breaker.DMX's attorney, Murray Richman, tells TMZ ... it seems like X just forgot, because he was preoccupied with the trip.Richman says X usually notifies his probation officer if he's leaving New York to perform, so this is unlike him. He's guessing the judge will show a little mercy and just up the restrictions -- like requiring an ankle bracelet -- but Richman vows to fight it.Nicholas Biase, a spokesman for the\\xa0\\xa0US attorney for the southern district of NY, tells us X is set to appear in court later this week.\",\n",
       " 'link': 'http://www.tmz.com/2017/08/09/dmx-violated-bail-tax-evasion-travel-out-of-state/'}"
      ]
     },
     "execution_count": 49,
     "metadata": {},
     "output_type": "execute_result"
    }
   ],
   "source": [
    "query = gossip.find()\n",
    "\n",
    "query.next()"
   ]
  },
  {
   "cell_type": "code",
   "execution_count": 50,
   "metadata": {},
   "outputs": [
    {
     "data": {
      "text/plain": [
       "1507"
      ]
     },
     "execution_count": 50,
     "metadata": {},
     "output_type": "execute_result"
    }
   ],
   "source": [
    "gossip.count()"
   ]
  },
  {
   "cell_type": "code",
   "execution_count": 51,
   "metadata": {},
   "outputs": [
    {
     "data": {
      "text/plain": [
       "{'_id': ObjectId('598df6dd2056780489cd43f6'),\n",
       " 'article': \"DMX\\xa0went to visit his family ... and he could go to jail as a result.The rapper is out on bail in his tax evasion case, and one of the conditions was that he must give the judge a heads-up if he blows out of town. He left New York to see family in St. Louis, without telling hizzoner ... and that could be a deal breaker.DMX's attorney, Murray Richman, tells TMZ ... it seems like X just forgot, because he was preoccupied with the trip.Richman says X usually notifies his probation officer if he's leaving New York to perform, so this is unlike him. He's guessing the judge will show a little mercy and just up the restrictions -- like requiring an ankle bracelet -- but Richman vows to fight it.Nicholas Biase, a spokesman for the\\xa0\\xa0US attorney for the southern district of NY, tells us X is set to appear in court later this week.\",\n",
       " 'link': 'http://www.tmz.com/2017/08/09/dmx-violated-bail-tax-evasion-travel-out-of-state/'}"
      ]
     },
     "execution_count": 51,
     "metadata": {},
     "output_type": "execute_result"
    }
   ],
   "source": [
    "gossip.find_one({'link': 'http://www.tmz.com/2017/08/09/dmx-violated-bail-tax-evasion-travel-out-of-state/'})"
   ]
  },
  {
   "cell_type": "code",
   "execution_count": null,
   "metadata": {
    "collapsed": true
   },
   "outputs": [],
   "source": [
    "# TO PUT TWEETS INTO MONGO"
   ]
  },
  {
   "cell_type": "code",
   "execution_count": 55,
   "metadata": {},
   "outputs": [
    {
     "data": {
      "text/html": [
       "<div>\n",
       "<table border=\"1\" class=\"dataframe\">\n",
       "  <thead>\n",
       "    <tr style=\"text-align: right;\">\n",
       "      <th></th>\n",
       "      <th>celebrity</th>\n",
       "      <th>tweet</th>\n",
       "    </tr>\n",
       "  </thead>\n",
       "  <tbody>\n",
       "    <tr>\n",
       "      <th>0</th>\n",
       "      <td>katyperry</td>\n",
       "      <td>🇦🇺AUSTRALIA🇦🇺 Tickets &amp;amp; VIP packages for n...</td>\n",
       "    </tr>\n",
       "    <tr>\n",
       "      <th>1</th>\n",
       "      <td>katyperry</td>\n",
       "      <td>Can’t wait to share the stage with all these a...</td>\n",
       "    </tr>\n",
       "    <tr>\n",
       "      <th>2</th>\n",
       "      <td>katyperry</td>\n",
       "      <td>#FBF: Who's getting excited for the #VMAs? 🙋🏼B...</td>\n",
       "    </tr>\n",
       "    <tr>\n",
       "      <th>3</th>\n",
       "      <td>katyperry</td>\n",
       "      <td>Auditions kick off on Aug 17 @DisneySprings! 🎤...</td>\n",
       "    </tr>\n",
       "    <tr>\n",
       "      <th>4</th>\n",
       "      <td>katyperry</td>\n",
       "      <td>🇦🇺 AUSTRALIA❗Your 1st chance for 🎟 to the new ...</td>\n",
       "    </tr>\n",
       "  </tbody>\n",
       "</table>\n",
       "</div>"
      ],
      "text/plain": [
       "   celebrity                                              tweet\n",
       "0  katyperry  🇦🇺AUSTRALIA🇦🇺 Tickets &amp; VIP packages for n...\n",
       "1  katyperry  Can’t wait to share the stage with all these a...\n",
       "2  katyperry  #FBF: Who's getting excited for the #VMAs? 🙋🏼B...\n",
       "3  katyperry  Auditions kick off on Aug 17 @DisneySprings! 🎤...\n",
       "4  katyperry  🇦🇺 AUSTRALIA❗Your 1st chance for 🎟 to the new ..."
      ]
     },
     "execution_count": 55,
     "metadata": {},
     "output_type": "execute_result"
    }
   ],
   "source": [
    "import pickle\n",
    "tweet_list = pd.read_pickle('tweet_list.pkl')\n",
    "tweet_list['celebrity'] = tweet_list['celebrity'].str.lower()\n",
    "tweet_list.head()"
   ]
  },
  {
   "cell_type": "code",
   "execution_count": 56,
   "metadata": {},
   "outputs": [
    {
     "data": {
      "text/plain": [
       "Collection(Database(MongoClient(host=['localhost:12345'], document_class=dict, tz_aware=False, connect=True), 'celebrity'), 'tweet')"
      ]
     },
     "execution_count": 56,
     "metadata": {},
     "output_type": "execute_result"
    }
   ],
   "source": [
    "db = client.celebrity\n",
    "db.create_collection(\"tweet\")"
   ]
  },
  {
   "cell_type": "code",
   "execution_count": 63,
   "metadata": {},
   "outputs": [
    {
     "name": "stdout",
     "output_type": "stream",
     "text": [
      "['gossip', 'tweet']\n"
     ]
    }
   ],
   "source": [
    "print(db.collection_names())"
   ]
  },
  {
   "cell_type": "code",
   "execution_count": 64,
   "metadata": {},
   "outputs": [],
   "source": [
    "tweet = client.celebrity.tweet"
   ]
  },
  {
   "cell_type": "code",
   "execution_count": 66,
   "metadata": {},
   "outputs": [
    {
     "data": {
      "text/plain": [
       "<pymongo.results.InsertManyResult at 0x10e341e58>"
      ]
     },
     "execution_count": 66,
     "metadata": {},
     "output_type": "execute_result"
    }
   ],
   "source": [
    "tweet.insert_many(tweet_list.to_dict('records'))"
   ]
  },
  {
   "cell_type": "code",
   "execution_count": null,
   "metadata": {
    "collapsed": true
   },
   "outputs": [],
   "source": []
  },
  {
   "cell_type": "code",
   "execution_count": 41,
   "metadata": {
    "collapsed": true
   },
   "outputs": [],
   "source": [
    "## TO TAKE TMZ DATA OUT OF MONGO"
   ]
  },
  {
   "cell_type": "code",
   "execution_count": 52,
   "metadata": {
    "collapsed": true
   },
   "outputs": [],
   "source": [
    "gossip = client.celebrity.gossip"
   ]
  },
  {
   "cell_type": "code",
   "execution_count": 53,
   "metadata": {
    "collapsed": true
   },
   "outputs": [],
   "source": [
    "df = pd.DataFrame(list(gossip.find()))"
   ]
  },
  {
   "cell_type": "code",
   "execution_count": 54,
   "metadata": {},
   "outputs": [
    {
     "data": {
      "text/html": [
       "<div>\n",
       "<table border=\"1\" class=\"dataframe\">\n",
       "  <thead>\n",
       "    <tr style=\"text-align: right;\">\n",
       "      <th></th>\n",
       "      <th>_id</th>\n",
       "      <th>article</th>\n",
       "      <th>link</th>\n",
       "    </tr>\n",
       "  </thead>\n",
       "  <tbody>\n",
       "    <tr>\n",
       "      <th>0</th>\n",
       "      <td>598df6dd2056780489cd43f6</td>\n",
       "      <td>DMX went to visit his family ... and he could ...</td>\n",
       "      <td>http://www.tmz.com/2017/08/09/dmx-violated-bai...</td>\n",
       "    </tr>\n",
       "    <tr>\n",
       "      <th>1</th>\n",
       "      <td>598df6dd2056780489cd43f7</td>\n",
       "      <td>Miss BumBum 2017 contestants scored on each ot...</td>\n",
       "      <td>http://www.tmz.com/2017/08/09/miss-bumbum-2017...</td>\n",
       "    </tr>\n",
       "    <tr>\n",
       "      <th>2</th>\n",
       "      <td>598df6dd2056780489cd43f8</td>\n",
       "      <td>3:47 PM PT -- A rep for Chris tells TMZ ... Sh...</td>\n",
       "      <td>http://www.tmz.com/2017/08/09/shar-jackson-fur...</td>\n",
       "    </tr>\n",
       "    <tr>\n",
       "      <th>3</th>\n",
       "      <td>598df6dd2056780489cd43f9</td>\n",
       "      <td>The man who kept O.J. Simpson's getaway Bronco...</td>\n",
       "      <td>http://www.tmz.com/2017/08/09/oj-bronco-pawn-s...</td>\n",
       "    </tr>\n",
       "    <tr>\n",
       "      <th>4</th>\n",
       "      <td>598df6dd2056780489cd43fa</td>\n",
       "      <td>Carrie Fisher -- who starred in the globally i...</td>\n",
       "      <td>http://www.tmz.com/2017/08/09/billie-lourd-inh...</td>\n",
       "    </tr>\n",
       "  </tbody>\n",
       "</table>\n",
       "</div>"
      ],
      "text/plain": [
       "                        _id  \\\n",
       "0  598df6dd2056780489cd43f6   \n",
       "1  598df6dd2056780489cd43f7   \n",
       "2  598df6dd2056780489cd43f8   \n",
       "3  598df6dd2056780489cd43f9   \n",
       "4  598df6dd2056780489cd43fa   \n",
       "\n",
       "                                             article  \\\n",
       "0  DMX went to visit his family ... and he could ...   \n",
       "1  Miss BumBum 2017 contestants scored on each ot...   \n",
       "2  3:47 PM PT -- A rep for Chris tells TMZ ... Sh...   \n",
       "3  The man who kept O.J. Simpson's getaway Bronco...   \n",
       "4  Carrie Fisher -- who starred in the globally i...   \n",
       "\n",
       "                                                link  \n",
       "0  http://www.tmz.com/2017/08/09/dmx-violated-bai...  \n",
       "1  http://www.tmz.com/2017/08/09/miss-bumbum-2017...  \n",
       "2  http://www.tmz.com/2017/08/09/shar-jackson-fur...  \n",
       "3  http://www.tmz.com/2017/08/09/oj-bronco-pawn-s...  \n",
       "4  http://www.tmz.com/2017/08/09/billie-lourd-inh...  "
      ]
     },
     "execution_count": 54,
     "metadata": {},
     "output_type": "execute_result"
    }
   ],
   "source": [
    "df.head()"
   ]
  },
  {
   "cell_type": "code",
   "execution_count": 67,
   "metadata": {
    "collapsed": true
   },
   "outputs": [],
   "source": [
    "## TO TAKE TWEET DATA OUT OF MONGO"
   ]
  },
  {
   "cell_type": "code",
   "execution_count": 68,
   "metadata": {
    "collapsed": true
   },
   "outputs": [],
   "source": [
    "tweet = client.celebrity.tweet"
   ]
  },
  {
   "cell_type": "code",
   "execution_count": 69,
   "metadata": {
    "collapsed": true
   },
   "outputs": [],
   "source": [
    "df = pd.DataFrame(list(tweet.find()))"
   ]
  },
  {
   "cell_type": "code",
   "execution_count": 70,
   "metadata": {},
   "outputs": [
    {
     "data": {
      "text/html": [
       "<div>\n",
       "<table border=\"1\" class=\"dataframe\">\n",
       "  <thead>\n",
       "    <tr style=\"text-align: right;\">\n",
       "      <th></th>\n",
       "      <th>_id</th>\n",
       "      <th>celebrity</th>\n",
       "      <th>tweet</th>\n",
       "    </tr>\n",
       "  </thead>\n",
       "  <tbody>\n",
       "    <tr>\n",
       "      <th>0</th>\n",
       "      <td>598dfb822056780489cd49da</td>\n",
       "      <td>katyperry</td>\n",
       "      <td>🇦🇺AUSTRALIA🇦🇺 Tickets &amp;amp; VIP packages for n...</td>\n",
       "    </tr>\n",
       "    <tr>\n",
       "      <th>1</th>\n",
       "      <td>598dfb822056780489cd49db</td>\n",
       "      <td>katyperry</td>\n",
       "      <td>Can’t wait to share the stage with all these a...</td>\n",
       "    </tr>\n",
       "    <tr>\n",
       "      <th>2</th>\n",
       "      <td>598dfb822056780489cd49dc</td>\n",
       "      <td>katyperry</td>\n",
       "      <td>#FBF: Who's getting excited for the #VMAs? 🙋🏼B...</td>\n",
       "    </tr>\n",
       "    <tr>\n",
       "      <th>3</th>\n",
       "      <td>598dfb822056780489cd49dd</td>\n",
       "      <td>katyperry</td>\n",
       "      <td>Auditions kick off on Aug 17 @DisneySprings! 🎤...</td>\n",
       "    </tr>\n",
       "    <tr>\n",
       "      <th>4</th>\n",
       "      <td>598dfb822056780489cd49de</td>\n",
       "      <td>katyperry</td>\n",
       "      <td>🇦🇺 AUSTRALIA❗Your 1st chance for 🎟 to the new ...</td>\n",
       "    </tr>\n",
       "  </tbody>\n",
       "</table>\n",
       "</div>"
      ],
      "text/plain": [
       "                        _id  celebrity  \\\n",
       "0  598dfb822056780489cd49da  katyperry   \n",
       "1  598dfb822056780489cd49db  katyperry   \n",
       "2  598dfb822056780489cd49dc  katyperry   \n",
       "3  598dfb822056780489cd49dd  katyperry   \n",
       "4  598dfb822056780489cd49de  katyperry   \n",
       "\n",
       "                                               tweet  \n",
       "0  🇦🇺AUSTRALIA🇦🇺 Tickets &amp; VIP packages for n...  \n",
       "1  Can’t wait to share the stage with all these a...  \n",
       "2  #FBF: Who's getting excited for the #VMAs? 🙋🏼B...  \n",
       "3  Auditions kick off on Aug 17 @DisneySprings! 🎤...  \n",
       "4  🇦🇺 AUSTRALIA❗Your 1st chance for 🎟 to the new ...  "
      ]
     },
     "execution_count": 70,
     "metadata": {},
     "output_type": "execute_result"
    }
   ],
   "source": [
    "df.head()"
   ]
  },
  {
   "cell_type": "code",
   "execution_count": null,
   "metadata": {
    "collapsed": true
   },
   "outputs": [],
   "source": []
  }
 ],
 "metadata": {
  "kernelspec": {
   "display_name": "Python 3",
   "language": "python",
   "name": "python3"
  },
  "language_info": {
   "codemirror_mode": {
    "name": "ipython",
    "version": 3
   },
   "file_extension": ".py",
   "mimetype": "text/x-python",
   "name": "python",
   "nbconvert_exporter": "python",
   "pygments_lexer": "ipython3",
   "version": "3.6.0"
  }
 },
 "nbformat": 4,
 "nbformat_minor": 2
}
